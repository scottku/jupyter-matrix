{
 "cells": [
  {
   "cell_type": "code",
   "execution_count": 1,
   "id": "9fd482a6",
   "metadata": {},
   "outputs": [
    {
     "name": "stdout",
     "output_type": "stream",
     "text": [
      "30\n"
     ]
    }
   ],
   "source": [
    "a = 10\n",
    "b = 20\n",
    "print(a + b)"
   ]
  },
  {
   "cell_type": "code",
   "execution_count": 1,
   "id": "c86fc187",
   "metadata": {},
   "outputs": [],
   "source": [
    "u = [2, 2]\n",
    "v = [1, 2]\n",
    "z = [-3, 5]"
   ]
  },
  {
   "cell_type": "code",
   "execution_count": 2,
   "id": "f8b4c668",
   "metadata": {},
   "outputs": [],
   "source": [
    "result = []"
   ]
  },
  {
   "cell_type": "code",
   "execution_count": null,
   "id": "6234ee0f",
   "metadata": {},
   "outputs": [],
   "source": [
    "for i in range(len(u)):\n",
    "    result.append(u[i] + v[i] + z[i])"
   ]
  },
  {
   "cell_type": "code",
   "execution_count": 14,
   "id": "d659093a",
   "metadata": {},
   "outputs": [
    {
     "name": "stdout",
     "output_type": "stream",
     "text": [
      "[0, 9, 0, 9]\n"
     ]
    }
   ],
   "source": [
    "print(result)"
   ]
  },
  {
   "cell_type": "code",
   "execution_count": 15,
   "id": "3bfc7a22",
   "metadata": {},
   "outputs": [
    {
     "name": "stdout",
     "output_type": "stream",
     "text": [
      "[0, 9]\n"
     ]
    }
   ],
   "source": [
    "result = [sum(t) for t in zip(u, v, z)]\n",
    "print(result)"
   ]
  },
  {
   "cell_type": "code",
   "execution_count": 16,
   "id": "ce8b1613",
   "metadata": {},
   "outputs": [
    {
     "name": "stdout",
     "output_type": "stream",
     "text": [
      "[0, 9]\n"
     ]
    }
   ],
   "source": [
    "def vector_addition(*args):\n",
    "    return [sum(t) for t in zip(*args)]\n",
    "u = [2,2]\n",
    "v = [1,2]\n",
    "z = [-3,5]\n",
    "print(vector_addition(u,v,z))"
   ]
  },
  {
   "cell_type": "code",
   "execution_count": 17,
   "id": "e23d58ee",
   "metadata": {},
   "outputs": [
    {
     "name": "stdout",
     "output_type": "stream",
     "text": [
      "[0, 9]\n"
     ]
    }
   ],
   "source": [
    "vectors = [[2,2], [1,2], [-3,5]]\n",
    "print(vector_addition(*vectors))"
   ]
  },
  {
   "cell_type": "code",
   "execution_count": 18,
   "id": "c3d99b66",
   "metadata": {},
   "outputs": [],
   "source": [
    "import numpy as np"
   ]
  },
  {
   "cell_type": "code",
   "execution_count": 21,
   "id": "7168cca6",
   "metadata": {},
   "outputs": [],
   "source": [
    "nu = np.array([2,2])\n",
    "nv = np.array([1,2])\n",
    "nz = np.array([-3,5])"
   ]
  },
  {
   "cell_type": "code",
   "execution_count": 22,
   "id": "1b88797c",
   "metadata": {},
   "outputs": [
    {
     "name": "stdout",
     "output_type": "stream",
     "text": [
      "[0 9]\n"
     ]
    }
   ],
   "source": [
    "sum = nu + nv + nz\n",
    "print(sum)"
   ]
  },
  {
   "cell_type": "code",
   "execution_count": 23,
   "id": "4d35cfce",
   "metadata": {},
   "outputs": [],
   "source": [
    "u = [1, 2, 3]\n",
    "v = [4, 3, 3]\n",
    "alpha = 2"
   ]
  },
  {
   "cell_type": "code",
   "execution_count": 25,
   "id": "e7a898c5",
   "metadata": {},
   "outputs": [],
   "source": [
    "del sum"
   ]
  },
  {
   "cell_type": "code",
   "execution_count": 26,
   "id": "4fb7f7a4",
   "metadata": {},
   "outputs": [
    {
     "name": "stdout",
     "output_type": "stream",
     "text": [
      "[10, 10, 12]\n"
     ]
    }
   ],
   "source": [
    "result = [alpha * sum(t) for t in zip(u,v)]\n",
    "print(result)    "
   ]
  },
  {
   "cell_type": "code",
   "execution_count": 30,
   "id": "c9825004",
   "metadata": {},
   "outputs": [
    {
     "name": "stdout",
     "output_type": "stream",
     "text": [
      "[10 10 12]\n"
     ]
    }
   ],
   "source": [
    "nu = np.array([1,2,3])\n",
    "nv = np.array([4,3,3])\n",
    "sum = alpha * (nu + nv) # scalar인 2를 numpy가 알아서 [2, 2, 2]로 broadcasting 시켜줘서 식 성립 가능\n",
    "print(sum)"
   ]
  },
  {
   "cell_type": "code",
   "execution_count": 32,
   "id": "953ed50a",
   "metadata": {},
   "outputs": [],
   "source": [
    "del sum"
   ]
  },
  {
   "cell_type": "code",
   "execution_count": 33,
   "id": "74196a72",
   "metadata": {},
   "outputs": [
    {
     "name": "stdout",
     "output_type": "stream",
     "text": [
      "[[8, 14], [10, 12]]\n"
     ]
    }
   ],
   "source": [
    "matrix_a = [[3,6], [4,5]]\n",
    "matrix_b = [[5,8], [6,7]]\n",
    "result = [[sum(row) for row in zip(*t)] for t in zip(matrix_a, matrix_b)]\n",
    "print(result) # matrix a와 b에서 한쌍씩 데이터 추출 -> 그 추출된 데이터도 한 쌍으로 이루어짐 -> 그 데이터를 다시 각각으로 추출(zip)해서 합"
   ]
  },
  {
   "cell_type": "code",
   "execution_count": 34,
   "id": "6646052a",
   "metadata": {},
   "outputs": [
    {
     "name": "stdout",
     "output_type": "stream",
     "text": [
      "[[ 8 14]\n",
      " [10 12]]\n"
     ]
    }
   ],
   "source": [
    "nmatrix_a = np.array([[3,6], [4,5]])\n",
    "nmatrix_b = np.array([[5,8], [6,7]])\n",
    "\n",
    "result = nmatrix_a + nmatrix_b\n",
    "print(result)"
   ]
  },
  {
   "cell_type": "code",
   "execution_count": null,
   "id": "37fe9c73",
   "metadata": {},
   "outputs": [],
   "source": []
  }
 ],
 "metadata": {
  "kernelspec": {
   "display_name": "Python 3",
   "language": "python",
   "name": "python3"
  },
  "language_info": {
   "codemirror_mode": {
    "name": "ipython",
    "version": 3
   },
   "file_extension": ".py",
   "mimetype": "text/x-python",
   "name": "python",
   "nbconvert_exporter": "python",
   "pygments_lexer": "ipython3",
   "version": "3.7.10"
  }
 },
 "nbformat": 4,
 "nbformat_minor": 5
}
