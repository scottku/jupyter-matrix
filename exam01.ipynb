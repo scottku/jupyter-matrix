{
 "cells": [
  {
   "cell_type": "code",
   "execution_count": 1,
   "id": "9fd482a6",
   "metadata": {},
   "outputs": [
    {
     "name": "stdout",
     "output_type": "stream",
     "text": [
      "30\n"
     ]
    }
   ],
   "source": [
    "a = 10\n",
    "b = 20\n",
    "print(a + b)"
   ]
  },
  {
   "cell_type": "code",
   "execution_count": 1,
   "id": "c86fc187",
   "metadata": {},
   "outputs": [],
   "source": [
    "u = [2, 2]\n",
    "v = [1, 2]\n",
    "z = [-3, 5]"
   ]
  },
  {
   "cell_type": "code",
   "execution_count": 2,
   "id": "3ddf7a6b",
   "metadata": {},
   "outputs": [],
   "source": [
    "result = []"
   ]
  },
  {
   "cell_type": "code",
   "execution_count": null,
   "id": "07b6613b",
   "metadata": {},
   "outputs": [],
   "source": [
    "for i in range(len(u)):\n",
    "    result.append(u[i] + v[i] + z[i])"
   ]
  },
  {
   "cell_type": "code",
   "execution_count": 14,
   "id": "37c10f2d",
   "metadata": {},
   "outputs": [
    {
     "name": "stdout",
     "output_type": "stream",
     "text": [
      "[0, 9, 0, 9]\n"
     ]
    }
   ],
   "source": [
    "print(result)"
   ]
  },
  {
   "cell_type": "code",
   "execution_count": 15,
   "id": "2557ce0b",
   "metadata": {},
   "outputs": [
    {
     "name": "stdout",
     "output_type": "stream",
     "text": [
      "[0, 9]\n"
     ]
    }
   ],
   "source": [
    "result = [sum(t) for t in zip(u, v, z)]\n",
    "print(result)"
   ]
  },
  {
   "cell_type": "code",
   "execution_count": 16,
   "id": "31899741",
   "metadata": {},
   "outputs": [
    {
     "name": "stdout",
     "output_type": "stream",
     "text": [
      "[0, 9]\n"
     ]
    }
   ],
   "source": [
    "def vector_addition(*args):\n",
    "    return [sum(t) for t in zip(*args)]\n",
    "u = [2,2]\n",
    "v = [1,2]\n",
    "z = [-3,5]\n",
    "print(vector_addition(u,v,z))"
   ]
  },
  {
   "cell_type": "code",
   "execution_count": 17,
   "id": "1ca469b8",
   "metadata": {},
   "outputs": [
    {
     "name": "stdout",
     "output_type": "stream",
     "text": [
      "[0, 9]\n"
     ]
    }
   ],
   "source": [
    "vectors = [[2,2], [1,2], [-3,5]]\n",
    "print(vector_addition(*vectors))"
   ]
  },
  {
   "cell_type": "code",
   "execution_count": 18,
   "id": "17dc4ec8",
   "metadata": {},
   "outputs": [],
   "source": [
    "import numpy as np"
   ]
  },
  {
   "cell_type": "code",
   "execution_count": 21,
   "id": "2f00021d",
   "metadata": {},
   "outputs": [],
   "source": [
    "nu = np.array([2,2])\n",
    "nv = np.array([1,2])\n",
    "nz = np.array([-3,5])"
   ]
  },
  {
   "cell_type": "code",
   "execution_count": 22,
   "id": "9c1b9743",
   "metadata": {},
   "outputs": [
    {
     "name": "stdout",
     "output_type": "stream",
     "text": [
      "[0 9]\n"
     ]
    }
   ],
   "source": [
    "sum = nu + nv + nz\n",
    "print(sum)"
   ]
  },
  {
   "cell_type": "code",
   "execution_count": 23,
   "id": "cb22581b",
   "metadata": {},
   "outputs": [],
   "source": [
    "u = [1, 2, 3]\n",
    "v = [4, 3, 3]\n",
    "alpha = 2"
   ]
  },
  {
   "cell_type": "code",
   "execution_count": 25,
   "id": "88dde771",
   "metadata": {},
   "outputs": [],
   "source": [
    "del sum"
   ]
  },
  {
   "cell_type": "code",
   "execution_count": 26,
   "id": "576bac64",
   "metadata": {},
   "outputs": [
    {
     "name": "stdout",
     "output_type": "stream",
     "text": [
      "[10, 10, 12]\n"
     ]
    }
   ],
   "source": [
    "result = [alpha * sum(t) for t in zip(u,v)]\n",
    "print(result)    "
   ]
  },
  {
   "cell_type": "code",
   "execution_count": 30,
   "id": "b8272603",
   "metadata": {},
   "outputs": [
    {
     "name": "stdout",
     "output_type": "stream",
     "text": [
      "[10 10 12]\n"
     ]
    }
   ],
   "source": [
    "nu = np.array([1,2,3])\n",
    "nv = np.array([4,3,3])\n",
    "sum = alpha * (nu + nv) # scalar인 2를 numpy가 알아서 [2, 2, 2]로 broadcasting 시켜줘서 식 성립 가능\n",
    "print(sum)"
   ]
  },
  {
   "cell_type": "code",
   "execution_count": 32,
   "id": "a5c98041",
   "metadata": {},
   "outputs": [],
   "source": [
    "del sum"
   ]
  },
  {
   "cell_type": "code",
   "execution_count": 33,
   "id": "fcbf454e",
   "metadata": {},
   "outputs": [
    {
     "name": "stdout",
     "output_type": "stream",
     "text": [
      "[[8, 14], [10, 12]]\n"
     ]
    }
   ],
   "source": [
    "matrix_a = [[3,6], [4,5]]\n",
    "matrix_b = [[5,8], [6,7]]\n",
    "result = [[sum(row) for row in zip(*t)] for t in zip(matrix_a, matrix_b)]\n",
    "print(result) # matrix a와 b에서 한쌍씩 데이터 추출 -> 그 추출된 데이터도 한 쌍으로 이루어짐 -> 그 데이터를 다시 각각으로 추출(zip)해서 합"
   ]
  },
  {
   "cell_type": "code",
   "execution_count": 34,
   "id": "a267609d",
   "metadata": {},
   "outputs": [
    {
     "name": "stdout",
     "output_type": "stream",
     "text": [
      "[[ 8 14]\n",
      " [10 12]]\n"
     ]
    }
   ],
   "source": [
    "nmatrix_a = np.array([[3,6], [4,5]])\n",
    "nmatrix_b = np.array([[5,8], [6,7]])\n",
    "\n",
    "result = nmatrix_a + nmatrix_b\n",
    "print(result)"
   ]
  },
  {
   "cell_type": "code",
   "execution_count": 54,
   "id": "b14b4737",
   "metadata": {},
   "outputs": [],
   "source": [
    "aMat = [[1, 2, 3], [4, 5, 6]]\n",
    "# a_t = [[1, 4], [2, 5], [3, 6]]"
   ]
  },
  {
   "cell_type": "code",
   "execution_count": 55,
   "id": "d3353a17",
   "metadata": {},
   "outputs": [
    {
     "name": "stdout",
     "output_type": "stream",
     "text": [
      "[(1, 4), (2, 5), (3, 6)]\n",
      "<class 'list'>\n",
      "<class 'list'>\n",
      "<class 'list'> <class 'tuple'>\n"
     ]
    }
   ],
   "source": [
    "result = [matrix for matrix in zip(aMat[0], a[1])]\n",
    "print(result)\n",
    "print(type(result))\n",
    "print(type(a))\n",
    "bomb1 = [1, 2 ,3]\n",
    "bomb2 = (1, 2, 3)\n",
    "print(type(bomb1), type(bomb2))"
   ]
  },
  {
   "cell_type": "code",
   "execution_count": 69,
   "id": "16202158",
   "metadata": {},
   "outputs": [
    {
     "name": "stdout",
     "output_type": "stream",
     "text": [
      "[[1, 4], [2, 5], [3, 6]]\n",
      "<class 'list'>\n"
     ]
    }
   ],
   "source": [
    "result =[[t for t in i] for i in zip(aMat[0], aMat[1])]\n",
    "print(result)\n",
    "print(type(result))"
   ]
  },
  {
   "cell_type": "code",
   "execution_count": 84,
   "id": "156d65d0",
   "metadata": {},
   "outputs": [
    {
     "name": "stdout",
     "output_type": "stream",
     "text": [
      "[[1, 4], [2, 5], [3, 6]]\n",
      "<class 'list'>\n",
      "[[1, 2, 3], [4, 5, 6]]\n"
     ]
    }
   ],
   "source": [
    "result =[[t for t in i] for i in zip(*aMat)]\n",
    "print(result)\n",
    "print(type(result))\n",
    "\n",
    "result_1 = [aMat[f] for f in range(len(aMat))]\n",
    "print(result_1)"
   ]
  },
  {
   "cell_type": "code",
   "execution_count": 85,
   "id": "058c7159",
   "metadata": {},
   "outputs": [
    {
     "name": "stdout",
     "output_type": "stream",
     "text": [
      "[1, 2, 3] [4, 5, 6]\n"
     ]
    }
   ],
   "source": [
    "print(*aMat) # 묶여있는 요소들을 풀어주는 Asterisk => *(1,2,3,4) => 1 2 3 4"
   ]
  },
  {
   "cell_type": "code",
   "execution_count": 86,
   "id": "94fef5b4",
   "metadata": {},
   "outputs": [
    {
     "name": "stdout",
     "output_type": "stream",
     "text": [
      "[[1 4]\n",
      " [2 5]\n",
      " [3 6]]\n",
      "[[1 4]\n",
      " [2 5]\n",
      " [3 6]]\n"
     ]
    }
   ],
   "source": [
    "matrix_a = np.array([[1,2,3],[4,5,6]])\n",
    "matrix_a_t = matrix_a.T\n",
    "matrix_a_t2 = np.transpose(matrix_a)\n",
    "print(matrix_a_t)\n",
    "print(matrix_a_t2)"
   ]
  },
  {
   "cell_type": "code",
   "execution_count": null,
   "id": "00da6fed",
   "metadata": {},
   "outputs": [],
   "source": []
  }
 ],
 "metadata": {
  "kernelspec": {
   "display_name": "Python 3",
   "language": "python",
   "name": "python3"
  },
  "language_info": {
   "codemirror_mode": {
    "name": "ipython",
    "version": 3
   },
   "file_extension": ".py",
   "mimetype": "text/x-python",
   "name": "python",
   "nbconvert_exporter": "python",
   "pygments_lexer": "ipython3",
   "version": "3.7.10"
  }
 },
 "nbformat": 4,
 "nbformat_minor": 5
}
